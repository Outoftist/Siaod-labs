{
  "cells": [
    {
      "cell_type": "markdown",
      "id": "fifteen-sailing",
      "metadata": {
        "id": "fifteen-sailing"
      },
      "source": [
        "# Лабораторная работа №1\n",
        "## Выполнил студент группы БСТ2105 Райшев Артем Игоревич\n"
      ]
    },
    {
      "cell_type": "markdown",
      "id": "particular-syndicate",
      "metadata": {
        "id": "particular-syndicate"
      },
      "source": [
        "### Оглавление\n",
        "1. [Задание 1](#Задание-№1)\n",
        "2. [Задание 2](#Задание-№2)\n",
        "3. [Задание 3](#Задание-№3)\n",
        "4. [Вывод](#Вывод)"
      ]
    },
    {
      "cell_type": "markdown",
      "id": "arctic-stocks",
      "metadata": {
        "id": "arctic-stocks"
      },
      "source": [
        "### Задание №1\n",
        "<i> Вызвать функцию print() и передать туда строку Hello, World! </i>"
      ]
    },
    {
      "cell_type": "code",
      "execution_count": 1,
      "id": "caring-truck",
      "metadata": {
        "colab": {
          "base_uri": "https://localhost:8080/"
        },
        "id": "caring-truck",
        "outputId": "65b83e76-34d1-49ee-d112-d8b893a5ab05",
        "scrolled": true
      },
      "outputs": [
        {
          "name": "stdout",
          "output_type": "stream",
          "text": [
            "Hello, World!\n"
          ]
        }
      ],
      "source": [
        "print('Hello, World!')"
      ]
    },
    {
      "cell_type": "markdown",
      "id": "maritime-conversation",
      "metadata": {
        "id": "maritime-conversation"
      },
      "source": [
        "### Задание №2\n",
        "Написать генератор случайных матриц(многомерных), который принимает\n",
        "опциональные параметры <b>m</b>, <b>n</b>, <b>min_limit</b>, <b>max_limit</b>, где <b>m</b> и <b>n</b> указывают размер\n",
        "матрицы, а <b>min_lim</b> и <b>max_lim</b> - минимальное и максимальное значение для\n",
        "генерируемого числа."
      ]
    },
    {
      "cell_type": "code",
      "execution_count": 27,
      "id": "built-contact",
      "metadata": {
        "id": "built-contact"
      },
      "outputs": [],
      "source": [
        "import random\n",
        "import time\n",
        "import copy\n",
        "import math\n"
      ]
    },
    {
      "cell_type": "code",
      "execution_count": 28,
      "id": "alert-charm",
      "metadata": {
        "colab": {
          "base_uri": "https://localhost:8080/"
        },
        "id": "alert-charm",
        "outputId": "f4e66d05-f497-4700-d872-ea20aae665a8"
      },
      "outputs": [],
      "source": [
        "#Генерация матрицы\n",
        "def matrixGen(m, n, min_limit, max_limit):\n",
        "  matrix = []\n",
        "  for i in range(m):\n",
        "    arr = []\n",
        "    for j in range(n):\n",
        "      arr.append(random.randint(min_limit, max_limit))\n",
        "    matrix.append(arr)\n",
        "  return matrix\n",
        " \n",
        "user_m = int(input('Введите количество строк: '))\n",
        "user_n = int(input('Введите количество столбцов: '))\n",
        "user_min_limit = int(input('Введите минимальный порог значений: '))\n",
        "user_max_limit = int(input('Введите максимальный порог значений: '))\n",
        "\n",
        "matr = matrixGen(user_m, user_n, user_min_limit, user_max_limit)"
      ]
    },
    {
      "cell_type": "markdown",
      "id": "catholic-roots",
      "metadata": {
        "id": "catholic-roots"
      },
      "source": [
        "### Задание №3\n",
        "Реализовать методы сортировки строк числовой матрицы в соответствии с\n",
        "заданием. Оценить время работы каждого алгоритма сортировки и сравнить его со\n",
        "временем стандартной функции сортировки. Испытания проводить на сгенерированных\n",
        "матрицах."
      ]
    },
    {
      "cell_type": "code",
      "execution_count": 39,
      "id": "cleared-anniversary",
      "metadata": {
        "colab": {
          "base_uri": "https://localhost:8080/"
        },
        "id": "cleared-anniversary",
        "outputId": "89a3a1d6-df59-4c34-cd46-fcd79aaaf549"
      },
      "outputs": [],
      "source": [
        "# Сортировка выбором.\n",
        "# Берётся срез массива, в котором минимальный элемент переносят в самый левый угол,\n",
        "# после чего срез уменьшается и цикл повторяется.\n",
        "\n",
        "def SelectionSort(matrix):\n",
        "  for array in matrix:\n",
        "    for i in range(len(array) - 1):\n",
        "      m = i\n",
        "      j = i + 1\n",
        "      while j < len(array):\n",
        "          if array[j] < array[m]:\n",
        "              m = j\n",
        "          j = j + 1\n",
        "      array[i], array[m] = array[m], array[i]\n",
        "  return matrix\n",
        "\n",
        "matr1 = copy.deepcopy(matr)\n",
        "\n",
        "start_time = time.time()\n",
        "SelectionSort(matr1)\n",
        "selection_sort_time = (round((time.time() - start_time)*1000))"
      ]
    },
    {
      "cell_type": "code",
      "execution_count": 40,
      "id": "roman-silly",
      "metadata": {
        "colab": {
          "base_uri": "https://localhost:8080/"
        },
        "id": "roman-silly",
        "outputId": "a068e541-0e58-4891-8877-fdf2e083ae3c",
        "scrolled": true
      },
      "outputs": [],
      "source": [
        "# Сортировка вставкой.\n",
        "\n",
        "def InsertionSort(matrix):\n",
        "  for array in matrix:\n",
        "    for i in range(1, len(array)):\n",
        "      key = array[i]\n",
        "      j = i-1\n",
        "      while j >=0 and key < array[j] :\n",
        "          array[j+1] = array[j]\n",
        "          j -= 1\n",
        "      array[j+1] = key \n",
        "  return matrix\n",
        "\n",
        "matr1 = copy.deepcopy(matr)\n",
        "start_time = time.time()\n",
        "InsertionSort(matr1)\n",
        "insertion_sort_time = (round((time.time() - start_time)*1000))"
      ]
    },
    {
      "cell_type": "code",
      "execution_count": 41,
      "id": "vital-implementation",
      "metadata": {
        "colab": {
          "base_uri": "https://localhost:8080/"
        },
        "id": "vital-implementation",
        "outputId": "9bae29b4-7b7b-4a9a-974d-3de379c8a26e"
      },
      "outputs": [],
      "source": [
        "# Сортировка обменом. || Сортировка пузырьком.\n",
        "\n",
        "def BubbleSort(matrix):\n",
        "  for array in matrix:\n",
        "    for i in range(len(array)-1):\n",
        "        for j in range(len(array)-i-1):\n",
        "            if array[j] > array[j+1]:\n",
        "                buff = array[j]\n",
        "                array[j] = array[j+1]\n",
        "                array[j+1] = buff\n",
        "  return matrix\n",
        "\n",
        "matr1 = copy.deepcopy(matr)\n",
        "start_time = time.time()\n",
        "BubbleSort(matr1)\n",
        "bubble_sort_time = (round((time.time() - start_time)*1000))"
      ]
    },
    {
      "cell_type": "code",
      "execution_count": 42,
      "id": "veterinary-glory",
      "metadata": {
        "colab": {
          "base_uri": "https://localhost:8080/"
        },
        "id": "veterinary-glory",
        "outputId": "69825e29-dfbf-4a6c-eeac-7aad666289c7"
      },
      "outputs": [],
      "source": [
        "# Сортировка Шелла.\n",
        "\n",
        "def ShellSort(matrix):\n",
        "  for array in matrix:\n",
        "     n = len(array)\n",
        "     k = int(math.log2(n))\n",
        "     interval = 2**k -1\n",
        "     while interval > 0:\n",
        "        for i in range(interval, n):\n",
        "            temp = array[i]\n",
        "            j = i\n",
        "            while j >= interval and array[j - interval] > temp:\n",
        "                array[j] = array[j - interval]\n",
        "                j -= interval\n",
        "            array[j] = temp\n",
        "        k -= 1\n",
        "        interval = 2**k -1\n",
        "  return matrix\n",
        "\n",
        "matr1 = copy.deepcopy(matr)\n",
        "start_time = time.time()\n",
        "ShellSort(matr1)\n",
        "shell_sort_time = (round((time.time() - start_time)*1000))"
      ]
    },
    {
      "cell_type": "code",
      "execution_count": 43,
      "id": "correct-chaos",
      "metadata": {
        "colab": {
          "base_uri": "https://localhost:8080/"
        },
        "id": "correct-chaos",
        "outputId": "e8a7587d-e71b-4600-9cf7-18e8fc65bade"
      },
      "outputs": [],
      "source": [
        "# Быстрая сортировка.\n",
        "def quicksort(nums, fst, lst):\n",
        "   if fst >= lst: return\n",
        " \n",
        "   i, j = fst, lst\n",
        "   pivot = nums[random.randint(fst, lst)]\n",
        " \n",
        "   while i <= j:\n",
        "       while nums[i] < pivot: i += 1\n",
        "       while nums[j] > pivot: j -= 1\n",
        "       if i <= j:\n",
        "           nums[i], nums[j] = nums[j], nums[i]\n",
        "           i, j = i + 1, j - 1\n",
        "   quicksort(nums, fst, j)\n",
        "   quicksort(nums, i, lst)\n",
        "   return nums\n",
        "\n",
        "matr1 = copy.deepcopy(matr)\n",
        "start_time = time.time()\n",
        "for array in matr1:\n",
        "  quicksort(array, 0, len(array) - 1)\n",
        "\n",
        "quick_sort_time = (round((time.time() - start_time)*1000))"
      ]
    },
    {
      "cell_type": "code",
      "execution_count": 44,
      "id": "french-czech",
      "metadata": {
        "colab": {
          "base_uri": "https://localhost:8080/"
        },
        "id": "french-czech",
        "outputId": "2531fc2e-edbe-4c75-9a52-3e89c74fdbcc"
      },
      "outputs": [],
      "source": [
        "# Пирамидальная сортировка\n",
        "\n",
        "# Для реализации пирамидальной сортировки потребуется вспомогательная функция:\n",
        "def heapify(arr, n, i):\n",
        "    largest = i \n",
        "    l = 2 * i + 1\n",
        "    r = 2 * i + 2 \n",
        "    if l < n and arr[i] < arr[l]:\n",
        "        largest = l\n",
        "    if r < n and arr[largest] < arr[r]:\n",
        "        largest = r\n",
        "\n",
        "    if largest != i:\n",
        "        arr[i],arr[largest] = arr[largest],arr[i]\n",
        "\n",
        "        heapify(arr, n, largest)\n",
        "\n",
        "def heapSort(arr):\n",
        "    n = len(arr)\n",
        "\n",
        "    for i in range(n, -1, -1):\n",
        "        heapify(arr, n, i)\n",
        "\n",
        "    for i in range(n-1, 0, -1):\n",
        "        arr[i], arr[0] = arr[0], arr[i] # свап \n",
        "        heapify(arr, i, 0)\n",
        "\n",
        "matr1 = copy.deepcopy(matr)\n",
        "start_time = time.time()\n",
        "for array in matr1:\n",
        "  heapSort(array)\n",
        "heap_sort_time = (round((time.time() - start_time)*1000))"
      ]
    },
    {
      "cell_type": "code",
      "execution_count": 53,
      "id": "de26c41f",
      "metadata": {},
      "outputs": [
        {
          "name": "stdout",
          "output_type": "stream",
          "text": [
            "Сортировка выбором: 22 ms\n",
            "Сортировка вставками: 41 ms\n",
            "Сортировка пузырьком: 45 ms\n",
            "Сортировка Шелла: 7 ms\n",
            "Быстрая сортировка: 13 ms\n",
            "Пирамидальная сортировка: 29 ms\n"
          ]
        }
      ],
      "source": [
        "print(\"Сортировка выбором:\",insertion_sort_time,'ms')\n",
        "print(\"Сортировка вставками:\",selection_sort_time,'ms')\n",
        "print(\"Сортировка пузырьком:\",bubble_sort_time,'ms')\n",
        "print(\"Сортировка Шелла:\",shell_sort_time,'ms')\n",
        "print(\"Быстрая сортировка:\",quick_sort_time,'ms')\n",
        "print(\"Пирамидальная сортировка:\",heap_sort_time,'ms')"
      ]
    },
    {
      "cell_type": "markdown",
      "id": "rental-jerusalem",
      "metadata": {
        "id": "rental-jerusalem"
      },
      "source": [
        "### Вывод\n"
      ]
    },
    {
      "attachments": {},
      "cell_type": "markdown",
      "id": "9d108a0a",
      "metadata": {
        "id": "9d108a0a"
      },
      "source": [
        "В ходе проделанной лабораторной работы я познакомился, изучил и применил на практике алгоритмы сортировки, замерил время работы каждого и особенности их работы.\n",
        "Ссылка на github - https://github.com/Outoftist/Siaod-labs"
      ]
    }
  ],
  "metadata": {
    "colab": {
      "provenance": []
    },
    "kernelspec": {
      "display_name": "Python 3",
      "language": "python",
      "name": "python3"
    },
    "language_info": {
      "codemirror_mode": {
        "name": "ipython",
        "version": 3
      },
      "file_extension": ".py",
      "mimetype": "text/x-python",
      "name": "python",
      "nbconvert_exporter": "python",
      "pygments_lexer": "ipython3",
      "version": "3.10.10"
    },
    "vscode": {
      "interpreter": {
        "hash": "3b7e9cb8e453d6cda0fe8c8dd13f891a1f09162f0e7c66ffeae7751a7aecf00d"
      }
    }
  },
  "nbformat": 4,
  "nbformat_minor": 5
}
