{
  "cells": [
    {
      "attachments": {},
      "cell_type": "markdown",
      "id": "fifteen-sailing",
      "metadata": {
        "id": "fifteen-sailing"
      },
      "source": [
        "# Лабораторная работа №4\n",
        "## Выполнил студент группы Райшев Артем БСТ2105"
      ]
    },
    {
      "cell_type": "markdown",
      "id": "arctic-stocks",
      "metadata": {
        "id": "arctic-stocks"
      },
      "source": [
        "Реализовать следующие структуры данных:\n",
        "  \n",
        "● <b> Стек (stack): </b>  \n",
        "Операции для стека: \n",
        "<i> инициализация, проверка на пустоту, добавление нового элемента в начало, извлечение элемента из начала;  </i>  \n",
        "  \n",
        "● <b> Дек (двусторонняя очередь, deque):  </b>  \n",
        "Операции для дека: \n",
        "<i> инициализация, проверка на пустоту, добавление нового элемента в начало, добавление нового элемента в конец, извлечение элемента из начала, извлечение элемента из конца. </i>  \n",
        "  \n",
        "<i> Разработать программу обработки данных, содержащихся в заранее подготовленном txt-файле, в соответствии с заданиями, применив указанную в задании структуру данных. Результат работы программы вывести на экран и сохранить в отдельном txt-файле. </i>"
      ]
    },
    {
      "cell_type": "markdown",
      "id": "5d7edb08",
      "metadata": {
        "id": "5d7edb08",
        "scrolled": true
      },
      "source": [
        "### Задание №1\n",
        "Отсортировать строки файла, содержащие названия книг, в алфавитном порядке с использованием двух деков."
      ]
    },
    {
      "cell_type": "code",
      "execution_count": 1,
      "id": "61e1be94",
      "metadata": {},
      "outputs": [],
      "source": [
        "from collections import deque"
      ]
    },
    {
      "cell_type": "code",
      "execution_count": 15,
      "id": "17702ade",
      "metadata": {
        "id": "17702ade"
      },
      "outputs": [
        {
          "name": "stdout",
          "output_type": "stream",
          "text": [
            "Исходный файл:\n",
            " Сто лет одиночества\n",
            " Атлант расправил плечи\n",
            " Преступление и наказание\n",
            " Гарри Поттер\n",
            " Голодные игры\n",
            " Жажда жизни\n",
            " Мастер и Маргарита\n",
            " Двенадцать стульевДон Кихот\n",
            " Унесенные ветром\n",
            " Алхимик\n",
            "\n",
            "\n",
            "Отсортированный файл:\n",
            " Алхимик\n",
            " Атлант расправил плечи\n",
            " Гарри Поттер\n",
            " Голодные игры\n",
            " Двенадцать стульевДон Кихот\n",
            " Жажда жизни\n",
            " Мастер и Маргарита\n",
            " Преступление и наказание\n",
            " Сто лет одиночества\n",
            " Унесенные ветром\n",
            "\n"
          ]
        }
      ],
      "source": [
        "deq1, deq2 = deque(), deque()\n",
        "with open(\"txtmanager/books_task_1.txt\", \"r\", encoding=\"utf-8\") as readfile:\n",
        "    for line in readfile:\n",
        "        deq1.append(line)\n",
        "\n",
        "print(\"Исходный файл:\\n\",*deq1)        \n",
        "        \n",
        "while len(deq1) != 0:\n",
        "    x = deq1.pop()\n",
        "    while len(deq2) != 0 and deq2[-1] > x:\n",
        "        deq1.appendleft(deq2.pop())\n",
        "    deq2.append(x)\n",
        "    \n",
        "print(\"\\nОтсортированный файл:\\n\", *deq2)\n",
        "\n",
        "with open(\"txtmanager/books_sorted_task_1.txt\", \"w\", encoding=\"utf-8\") as writefile:\n",
        "    for elem in deq2:\n",
        "        writefile.write(elem)"
      ]
    },
    {
      "cell_type": "markdown",
      "id": "49fbd2a0",
      "metadata": {
        "id": "49fbd2a0"
      },
      "source": [
        "### Задание №2\n",
        "Дек содержит последовательность символов для шифровки сообщений. Дан текстовый файл, содержащий зашифрованное сообщение. Пользуясь деком, расшифровать текст. \n",
        "Известно, что при шифровке каждый символ сообщения заменялся следующим за ним в деке по часовой стрелке через один."
      ]
    },
    {
      "cell_type": "code",
      "execution_count": 44,
      "id": "81cab7a8",
      "metadata": {
        "id": "81cab7a8"
      },
      "outputs": [
        {
          "name": "stdout",
          "output_type": "stream",
          "text": [
            "Зашифрованное сообщение:  гхёх ъкцтрдвфю фрнюмр пкипкл тжекуфт чэч\n"
          ]
        }
      ],
      "source": [
        "# encoding a message from keyboard and saving to file \n",
        "key = 2\n",
        "alphabet = list('абвгдеёжзийклмнопрстуфхцчшщъыьэюя')\n",
        "\n",
        "message, cipher = deque(), deque()\n",
        "\n",
        "for i in range(len(alphabet)):\n",
        "    cipher.append(alphabet[(i + key) % len(alphabet)])\n",
        "\n",
        "message = list(input(\"Введите сообщение для шифровки: \").lower())\n",
        "            \n",
        "res = \"\"\n",
        "for char in message:\n",
        "    if char in alphabet:\n",
        "        res += cipher[alphabet.index(char)]\n",
        "    else:\n",
        "        res += char\n",
        "\n",
        "print(\"Зашифрованное сообщение: \",res)\n",
        "\n",
        "with open(\"txtmanager/encoded_task_2.txt\", \"w\", encoding=\"utf-8\") as writefile:\n",
        "    writefile.write(res)"
      ]
    },
    {
      "cell_type": "code",
      "execution_count": 45,
      "id": "65203b26",
      "metadata": {},
      "outputs": [
        {
          "name": "stdout",
          "output_type": "stream",
          "text": [
            "Зашифрованное сообщение из файла: гхёх ъкцтрдвфю фрнюмр пкипкл тжекуфт чэч\n",
            "Расшифрованное сообщение: буду шифровать только нижний регистр хых\n"
          ]
        }
      ],
      "source": [
        "#opening a file with an encoded message, decoding the message and saving it to file\n",
        "key = 2\n",
        "alphabet = list('абвгдеёжзийклмнопрстуфхцчшщъыьэюя')\n",
        "\n",
        "message, cipher = deque(), deque()\n",
        "\n",
        "for i in range(len(alphabet)):\n",
        "    cipher.append(alphabet[(i + key) % len(alphabet)])\n",
        "\n",
        "with open(\"txtmanager/encoded_task_2.txt\", \"r\", encoding=\"utf-8\") as readfile:\n",
        "    string = readfile.readline().lower()\n",
        "    for char in string:\n",
        "        if char != \"\\n\":\n",
        "            message.append(char)\n",
        "\n",
        "print(\"Зашифрованное сообщение из файла: \", *message, sep = \"\")\n",
        "            \n",
        "res = \"\"\n",
        "for char in message:\n",
        "    if char in alphabet:\n",
        "        res += alphabet[cipher.index(char)]\n",
        "    else:\n",
        "        res += char\n",
        "\n",
        "print(\"Расшифрованное сообщение:\", res)        \n",
        "    \n",
        "with open(\"txtmanager/decoded_task_2.txt\", \"w\", encoding=\"utf-8\") as writefile:\n",
        "    writefile.write(res)  "
      ]
    },
    {
      "attachments": {},
      "cell_type": "markdown",
      "id": "c0894f47",
      "metadata": {
        "id": "c0894f47"
      },
      "source": [
        "### Задание №3\n",
        "Даны три стержня и n дисков различного размера. Диски можно надевать на стержни, образуя из них башни. Перенести n дисков со стержня А на стержень С, сохранив их первоначальный порядок. При переносе дисков необходимо соблюдать следующие правила:\n",
        "- на каждом шаге со стержня на стержень переносить только один диск;\n",
        "- диск нельзя помещать на диск меньшего размера;\n",
        "- для промежуточного хранения можно использовать стержень В.\n",
        "\n",
        "Реализовать алгоритм, используя три стека вместо стержней А, В, С. Информация о дисках хранится в исходном файле."
      ]
    },
    {
      "cell_type": "code",
      "execution_count": 38,
      "id": "9e91a9d4",
      "metadata": {
        "id": "9e91a9d4"
      },
      "outputs": [
        {
          "name": "stdout",
          "output_type": "stream",
          "text": [
            "[20, 19, 18, 17, 16, 15, 14, 13, 12, 11, 10, 9, 8, 7, 6, 5, 4, 3, 2, 1] [] []\n",
            "[] [] [20, 19, 18, 17, 16, 15, 14, 13, 12, 11, 10, 9, 8, 7, 6, 5, 4, 3, 2, 1]\n"
          ]
        }
      ],
      "source": [
        "n = int(input(\"Количество дисков = \"))\n",
        "A, B, C = [i for i in range(n,0,-1)], [], []\n",
        "\n",
        "print(A, B, C)\n",
        "\n",
        "def hanoi(n, start, tmp, finish):\n",
        "    if n <= 0:\n",
        "        return\n",
        "    hanoi(n-1, start, finish, tmp)\n",
        "    finish.append(start.pop())\n",
        "    hanoi(n - 1, tmp, start, finish)\n",
        "hanoi(n, A, B, C)\n",
        "print(A, B, C)"
      ]
    },
    {
      "cell_type": "markdown",
      "id": "e5b0be17",
      "metadata": {
        "id": "e5b0be17"
      },
      "source": [
        "### Задание №4\n",
        "Дан текстовый файл с программой на алгоритмическом языке. За один просмотр файла проверить баланс круглых скобок в тексте, используя стек."
      ]
    },
    {
      "cell_type": "code",
      "execution_count": 41,
      "id": "5b1df60a",
      "metadata": {
        "id": "5b1df60a"
      },
      "outputs": [
        {
          "name": "stdout",
          "output_type": "stream",
          "text": [
            "Brackets position correct\n"
          ]
        }
      ],
      "source": [
        "stack = []\n",
        "flag = 1\n",
        "\n",
        "with open(\"txtmanager/brackets_task_4.txt\", \"r\", encoding=\"utf-8\") as readfile:\n",
        "    for string in readfile:\n",
        "        for char in string:\n",
        "            if char == \"(\":\n",
        "                stack.append(char)\n",
        "            if char == \")\":\n",
        "                if len(stack) == 0:\n",
        "                    flag = 0\n",
        "                    break\n",
        "                stack.pop()\n",
        "                \n",
        "if len(stack) > 0:\n",
        "    flag = 0\n",
        "\n",
        "print(\"Brackets position correct\" if flag else \"Brackets position incorrect\")"
      ]
    },
    {
      "cell_type": "markdown",
      "id": "c44cdd6b",
      "metadata": {
        "id": "c44cdd6b"
      },
      "source": [
        "### Задание №5\n",
        "Дан текстовый файл с программой на алгоритмическом языке. За один просмотр файла проверить баланс квадратных скобок в тексте, используя дек."
      ]
    },
    {
      "cell_type": "code",
      "execution_count": 46,
      "id": "36b8f400",
      "metadata": {
        "id": "36b8f400"
      },
      "outputs": [
        {
          "name": "stdout",
          "output_type": "stream",
          "text": [
            "Brackets position incorrect\n"
          ]
        }
      ],
      "source": [
        "deq = deque()\n",
        "flag = 1\n",
        "\n",
        "with open(\"txtmanager/brackets_task_5.txt\", \"r\", encoding=\"utf-8\") as readfile:\n",
        "    for string in readfile:\n",
        "        for char in string:\n",
        "            if char == \"[\":\n",
        "                deq.append(char)\n",
        "            if char == \"]\":\n",
        "                if len(deq) == 0:\n",
        "                    flag = 0\n",
        "                    break\n",
        "                deq.pop()\n",
        "                \n",
        "if len(deq) > 0:\n",
        "    flag = 0\n",
        "\n",
        "print(\"Brackets position correct\" if flag else \"Brackets position incorrect\")"
      ]
    },
    {
      "cell_type": "markdown",
      "id": "59d13dc7",
      "metadata": {
        "id": "59d13dc7"
      },
      "source": [
        "### Задание №6\n",
        "Дан файл из символов. Используя стек, за один просмотр файла напечатать сначала все цифры, затем все буквы, и, наконец, все остальные символы, сохраняя исходный порядок в каждой группе символов."
      ]
    },
    {
      "cell_type": "code",
      "execution_count": 49,
      "id": "297e36c2",
      "metadata": {
        "id": "297e36c2"
      },
      "outputs": [
        {
          "name": "stdout",
          "output_type": "stream",
          "text": [
            "19238800\n",
            "pishutranslitomsgodamenyavseustraevaet\n",
            "     &&     #$%^&*  {}\n"
          ]
        }
      ],
      "source": [
        "letters, numbers, others = [], [], []\n",
        "\n",
        "with open(\"txtmanager/text_task_6.txt\", \"r\", encoding=\"utf-8\") as readfile:\n",
        "    for string in readfile:\n",
        "        for char in string:\n",
        "            if char.isalpha():\n",
        "                letters.append(char)\n",
        "            elif char.isdigit():\n",
        "                numbers.append(char)\n",
        "            else:\n",
        "                others.append(char)\n",
        "\n",
        "letters.reverse()\n",
        "numbers.reverse()\n",
        "others.reverse()\n",
        "\n",
        "res_n, res_l, res_o = \"\", \"\", \"\"\n",
        "\n",
        "while numbers:\n",
        "    res_n += numbers.pop()\n",
        "while letters:\n",
        "    res_l += letters.pop()\n",
        "while others:\n",
        "    res_o += others.pop()\n",
        "\n",
        "print(res_n, res_l, res_o, sep=\"\\n\")"
      ]
    },
    {
      "cell_type": "markdown",
      "id": "973f68bd",
      "metadata": {
        "id": "973f68bd"
      },
      "source": [
        "### Задание №7\n",
        "Дан файл из целых чисел. Используя дек, за один просмотр файла напечатать сначала все отрицательные числа, затем все положительные числа, сохраняя исходный порядок в каждой группе."
      ]
    },
    {
      "cell_type": "code",
      "execution_count": 56,
      "id": "c56fad66",
      "metadata": {
        "id": "c56fad66"
      },
      "outputs": [
        {
          "name": "stdout",
          "output_type": "stream",
          "text": [
            "Исходный массив:\n",
            " 8 -12 34 93 3 -12 33 84 0 22 -123 -23 999\n",
            "\n",
            "Измененный массив:\n",
            "-12 -12 -123 -23 8 34 93 3 33 84 0 22 999 "
          ]
        }
      ],
      "source": [
        "deq = deque()\n",
        "with open(\"txtmanager/numbers_task_7.txt\", \"r\", encoding=\"utf-8\") as readfile:\n",
        "    s = readfile.readline().split()\n",
        "    print(\"Исходный массив:\\n\",*s)\n",
        "    s = map(int, s)\n",
        "for n in s:\n",
        "    if n < 0:\n",
        "        deq.appendleft(n)\n",
        "    else:\n",
        "        deq.append(n)\n",
        "while deq:\n",
        "    x = deq.popleft()\n",
        "    if x < 0:\n",
        "        deq.append(x)\n",
        "    else:\n",
        "        deq.appendleft(x)\n",
        "        break\n",
        "print(\"\\nИзмененный массив:\")\n",
        "while deq:\n",
        "    x = deq.pop()\n",
        "    if x < 0:\n",
        "        print(x, end = \" \")\n",
        "    else:\n",
        "        deq.append(x)\n",
        "        while deq:\n",
        "            print(deq.popleft(), end = \" \")\n",
        "        break"
      ]
    },
    {
      "cell_type": "markdown",
      "id": "b9228191",
      "metadata": {
        "id": "b9228191"
      },
      "source": [
        "### Задание №8\n",
        "Дан текстовый файл. Используя стек, сформировать новый текстовый файл, содержащий строки исходного файла, записанные в обратном порядке: первая строка становится последней, вторая – предпоследней и т.д."
      ]
    },
    {
      "cell_type": "code",
      "execution_count": 79,
      "id": "981fbdfe",
      "metadata": {
        "id": "981fbdfe"
      },
      "outputs": [
        {
          "name": "stdout",
          "output_type": "stream",
          "text": [
            "Исходный файл:\n",
            "first \n",
            "second \n",
            "++second \n",
            "++++second \n",
            "fifth \n",
            "\n",
            "Перевернутый файл:\n",
            "fifth \n",
            "++++second \n",
            "++second \n",
            "second \n",
            "first \n"
          ]
        }
      ],
      "source": [
        "stack = []\n",
        "oldFile = open(\"txtmanager/text_task_8.txt\", \"r\", encoding = \"utf-8\")\n",
        "print(\"Исходный файл:\")\n",
        "for string in oldFile:\n",
        "    stack.append(string)\n",
        "    print(string, end = \"\")\n",
        "print(\"\\nПеревернутый файл:\")    \n",
        "newFile = open(\"txtmanager/rewrited_task_8.txt\", \"w\", encoding = \"utf-8\")\n",
        "with newFile as writefile:\n",
        "    while stack:\n",
        "        print(stack[-1], end = \"\")\n",
        "        writefile.write(stack.pop())"
      ]
    },
    {
      "cell_type": "markdown",
      "id": "rental-jerusalem",
      "metadata": {
        "id": "rental-jerusalem"
      },
      "source": [
        "### Вывод\n"
      ]
    },
    {
      "attachments": {},
      "cell_type": "markdown",
      "id": "f593789d",
      "metadata": {},
      "source": [
        "Были реализованы такие структуры данных как стэк и дэк. Были использованы операции для этих структур данных (инициализация, проверка на пустоту, добавление и извлечение элемента слева и справа). Был реализован ввод и вывод в текстовый файл."
      ]
    }
  ],
  "metadata": {
    "colab": {
      "provenance": []
    },
    "kernelspec": {
      "display_name": "Python 3 (ipykernel)",
      "language": "python",
      "name": "python3"
    },
    "language_info": {
      "codemirror_mode": {
        "name": "ipython",
        "version": 3
      },
      "file_extension": ".py",
      "mimetype": "text/x-python",
      "name": "python",
      "nbconvert_exporter": "python",
      "pygments_lexer": "ipython3",
      "version": "3.10.10"
    }
  },
  "nbformat": 4,
  "nbformat_minor": 5
}
