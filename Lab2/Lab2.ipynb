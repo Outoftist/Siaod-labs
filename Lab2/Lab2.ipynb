{
  "cells": [
    {
      "attachments": {},
      "cell_type": "markdown",
      "id": "fifteen-sailing",
      "metadata": {
        "id": "fifteen-sailing"
      },
      "source": [
        "# Лабораторная работа №4\n",
        "## Выполнил студент группы Райшев Артем БСТ2105"
      ]
    },
    {
      "cell_type": "markdown",
      "id": "arctic-stocks",
      "metadata": {
        "id": "arctic-stocks"
      },
      "source": [
        "Реализовать следующие структуры данных:\n",
        "  \n",
        "● <b> Стек (stack): </b>  \n",
        "Операции для стека: \n",
        "<i> инициализация, проверка на пустоту, добавление нового элемента в начало, извлечение элемента из начала;  </i>  \n",
        "  \n",
        "● <b> Дек (двусторонняя очередь, deque):  </b>  \n",
        "Операции для дека: \n",
        "<i> инициализация, проверка на пустоту, добавление нового элемента в начало, добавление нового элемента в конец, извлечение элемента из начала, извлечение элемента из конца. </i>  \n",
        "  \n",
        "<i> Разработать программу обработки данных, содержащихся в заранее подготовленном txt-файле, в соответствии с заданиями, применив указанную в задании структуру данных. Результат работы программы вывести на экран и сохранить в отдельном txt-файле. </i>"
      ]
    },
    {
      "cell_type": "code",
      "execution_count": 1,
      "id": "c2d994a9",
      "metadata": {},
      "outputs": [],
      "source": [
        "class LinkedNode:\n",
        "    def __init__(self, value=None):\n",
        "        self.value = value\n",
        "        self.right = None\n",
        "        self.left = None\n",
        "#Стек\n",
        "class Stack:\n",
        "    def __init__(self):    #инициализация\n",
        "        self.head = LinkedNode()\n",
        "        self.size = 0\n",
        "\n",
        "    def is_empty(self):    #is_empty - определить, пусто ли оно\n",
        "        return self.size == 0\n",
        "\n",
        "    def push(self, value):   #push - добавляет элемент в верхнюю часть стека\n",
        "        if self.size > 0:\n",
        "            node = LinkedNode(value)\n",
        "            node.right = self.head\n",
        "            self.head = node\n",
        "        else:\n",
        "            self.head.value = value\n",
        "        self.size += 1\n",
        "      \n",
        "    def pop(self):           #pop - удаляет элемент в верхней части стека\n",
        "        if self.is_empty():\n",
        "            return println(\"Стек пустой!\")\n",
        "        remove = self.head\n",
        "        if self.size > 1:\n",
        "            self.head = remove.right\n",
        "        self.size -= 1\n",
        "        return remove.value\n",
        "    \n",
        "    def peek(self):        #peek - возвращается к верхнему элементу стека\n",
        "        if self.is_empty():\n",
        "            return println(\"Стек пустой!\")\n",
        "        return self.head.value\n",
        "    \n",
        "    def __len__(self):     #возвращает количество элементов в стеке\n",
        "        return self.size\n",
        "\n",
        "    def reverse(self):    #реверс\n",
        "        current = self.head\n",
        "        prev = None\n",
        "        next = None\n",
        " \n",
        "        while current is not None:\n",
        "            next = current.right\n",
        "            current.right = prev\n",
        "            prev = current\n",
        "            current = next\n",
        "\n",
        "        self.head = prev\n",
        "#Дек     \n",
        "class Deque:\n",
        "    def __init__(self):         #инициализация\n",
        "        self.head = LinkedNode()\n",
        "        self.tail = self.head\n",
        "        self.size = 0\n",
        "    \n",
        "    def is_empty(self):         #is_empty - определить, пусто ли оно\n",
        "        return self.size == 0\n",
        "\n",
        "    def push_left(self, value): #добавляет к началу двухсторонней очереди  \n",
        "        if self.size > 0:\n",
        "            node = LinkedNode(value)\n",
        "            node.right = self.tail\n",
        "            self.tail.left = node\n",
        "            self.tail = node\n",
        "        else:\n",
        "            self.tail.value = value\n",
        "        self.size += 1\n",
        "\n",
        "    def push(self, value):     #добавляет к концу двухсторонней очереди \n",
        "        if self.size > 0:\n",
        "            node = LinkedNode(value)\n",
        "            node.left = self.head\n",
        "            self.head.right = node\n",
        "            self.head = node\n",
        "        else:\n",
        "            self.head.value = value\n",
        "        self.size += 1\n",
        "    \n",
        "    def pop_left(self):  #удаляет и возвращает элемент с левой стороны двусторонней очереди\n",
        "        if self.is_empty():\n",
        "            return println(\"Стек пустой!\")\n",
        "        remove = self.tail\n",
        "        if self.size > 1:\n",
        "            self.tail = remove.right\n",
        "        self.size -= 1\n",
        "        return remove.value\n",
        "    \n",
        "    def pop(self):       #удаляет и возвращает элемент с правой стороны двусторонней очереди\n",
        "        if self.is_empty():\n",
        "            return println(\"Стек пустой!\")\n",
        "        remove = self.head\n",
        "        if self.size > 1:\n",
        "            self.head = remove.left\n",
        "        self.size -= 1\n",
        "        return remove.value\n",
        "    \n",
        "    def peek(self):      #возвращает элемент начала, не удаляя его\n",
        "        if self.is_empty():\n",
        "            return println(\"Стек пустой!\")\n",
        "        return self.head.value\n",
        "    \n",
        "    def peek_left(self):  #возвращает элемент начала, не удаляя его\n",
        "        if self.is_empty():\n",
        "            return println(\"Стек пустой!\")\n",
        "        return self.tail.value\n",
        "\n",
        "    def __len__(self):          #возвращает количество элементов в двухсторонней очереди\n",
        "        return self.size"
      ]
    },
    {
      "cell_type": "markdown",
      "id": "5d7edb08",
      "metadata": {
        "id": "5d7edb08",
        "scrolled": true
      },
      "source": [
        "### Задание №1\n",
        "Отсортировать строки файла, содержащие названия книг, в алфавитном порядке с использованием двух деков."
      ]
    },
    {
      "cell_type": "code",
      "execution_count": 2,
      "id": "17702ade",
      "metadata": {
        "id": "17702ade"
      },
      "outputs": [
        {
          "name": "stdout",
          "output_type": "stream",
          "text": [
            "Исходный файл: \n",
            "\n",
            "Сто лет одиночества\n",
            "\n",
            "Атлант расправил плечи\n",
            "\n",
            "Преступление и наказание\n",
            "\n",
            "Гарри Поттер\n",
            "\n",
            "Голодные игры\n",
            "\n",
            "Жажда жизни\n",
            "\n",
            "Мастер и Маргарита\n",
            "\n",
            "Двенадцать стульевДон Кихот\n",
            "\n",
            "Унесенные ветром\n",
            "\n",
            "Алхимик\n",
            "\n",
            "Отсортированный файл: \n",
            "\n",
            "Алхимик\n",
            "\n",
            "Атлант расправил плечи\n",
            "\n",
            "Гарри Поттер\n",
            "\n",
            "Голодные игры\n",
            "\n",
            "Двенадцать стульевДон Кихот\n",
            "\n",
            "Жажда жизни\n",
            "\n",
            "Мастер и Маргарита\n",
            "\n",
            "Преступление и наказание\n",
            "\n",
            "Сто лет одиночества\n",
            "\n",
            "Унесенные ветром\n",
            "\n"
          ]
        }
      ],
      "source": [
        "deq1, deq2 = Deque(), Deque()\n",
        "print('Исходный файл: \\r\\n')\n",
        "with open(\"txtmanager/books_task_1.txt\", \"r\", encoding=\"utf-8\") as readfile:\n",
        "    for line in readfile:\n",
        "        deq1.push(line)\n",
        "        print(line)\n",
        "        \n",
        "print('Отсортированный файл: \\r\\n')\n",
        "with open(\"txtmanager/books_sorted_task_1.txt\", \"w\", encoding=\"utf-8\") as writefile:\n",
        "\n",
        "    while not deq1.is_empty():\n",
        "        x = deq1.pop()\n",
        "        while not deq2.is_empty() and deq2.peek() < x:\n",
        "            deq1.push_left(deq2.pop())\n",
        "        deq2.push(x)\n",
        "    while not deq2.is_empty():\n",
        "        y = deq2.pop()\n",
        "        print(y)\n",
        "        writefile.write(y)\n",
        "\n",
        "\n",
        "\n",
        "        "
      ]
    },
    {
      "cell_type": "markdown",
      "id": "49fbd2a0",
      "metadata": {
        "id": "49fbd2a0"
      },
      "source": [
        "### Задание №2\n",
        "Дек содержит последовательность символов для шифровки сообщений. Дан текстовый файл, содержащий зашифрованное сообщение. Пользуясь деком, расшифровать текст. \n",
        "Известно, что при шифровке каждый символ сообщения заменялся следующим за ним в деке по часовой стрелке через один."
      ]
    },
    {
      "cell_type": "code",
      "execution_count": 3,
      "id": "442d4aae",
      "metadata": {},
      "outputs": [
        {
          "name": "stdout",
          "output_type": "stream",
          "text": [
            "уйяшёиэюатлжьщгхпвчмнобрыцдесъзфк\n"
          ]
        }
      ],
      "source": [
        "import random\n",
        "alphabet = list('абвгдеёжзийклмнопрстуфхцчшщъыьэюя')\n",
        "random.shuffle(alphabet)    #Перемешивает изменяемую последовательность случайным образом\n",
        "alphabet = ''.join(alphabet) #join для того, чтобы конвертировать список букв алфавита (без разделений) в строку для сохранения\n",
        "print(alphabet)\n",
        "key = Deque()\n",
        "for letter in alphabet:\n",
        "    key.push(letter)"
      ]
    },
    {
      "cell_type": "code",
      "execution_count": 4,
      "id": "849a4ade",
      "metadata": {},
      "outputs": [],
      "source": [
        "#кодировка\n",
        "def encode(c):\n",
        "    for i in range(len(key)):\n",
        "        x = key.pop_left()\n",
        "        if x == c:\n",
        "            key.push(x)\n",
        "            val = key.pop_left()\n",
        "            key.push(val)\n",
        "            return val\n",
        "        key.push(x)\n",
        "#декодировка\n",
        "def decode(c):\n",
        "    for i in range(len(key)):\n",
        "        x = key.pop()\n",
        "        if x == c:\n",
        "            key.push_left(x)\n",
        "            val = key.pop()\n",
        "            key.push_left(val)\n",
        "            return val\n",
        "        key.push_left(x)"
      ]
    },
    {
      "cell_type": "code",
      "execution_count": 5,
      "id": "d359cd93",
      "metadata": {},
      "outputs": [
        {
          "name": "stdout",
          "output_type": "stream",
          "text": [
            "ъбй ъбй\n",
            "соу соу\n"
          ]
        }
      ],
      "source": [
        "\n",
        "text = input().lower()\n",
        "\n",
        "encoded = ''\n",
        "for letter in text:\n",
        "    if encoded_letter := encode(letter):\n",
        "        encoded += encoded_letter\n",
        "    else:\n",
        "        encoded += letter\n",
        "\n",
        "print(encoded)\n",
        "\n",
        "decoded = ''\n",
        "for letter in encoded:\n",
        "    if decoded_letter := decode(letter):\n",
        "        decoded += decoded_letter\n",
        "    else:\n",
        "        decoded += letter\n",
        "print(decoded)"
      ]
    },
    {
      "attachments": {},
      "cell_type": "markdown",
      "id": "c0894f47",
      "metadata": {
        "id": "c0894f47"
      },
      "source": [
        "### Задание №3\n",
        "Даны три стержня и n дисков различного размера. Диски можно надевать на стержни, образуя из них башни. Перенести n дисков со стержня А на стержень С, сохранив их первоначальный порядок. При переносе дисков необходимо соблюдать следующие правила:\n",
        "- на каждом шаге со стержня на стержень переносить только один диск;\n",
        "- диск нельзя помещать на диск меньшего размера;\n",
        "- для промежуточного хранения можно использовать стержень В.\n",
        "\n",
        "Реализовать алгоритм, используя три стека вместо стержней А, В, С. Информация о дисках хранится в исходном файле."
      ]
    },
    {
      "cell_type": "code",
      "execution_count": 6,
      "id": "9e91a9d4",
      "metadata": {
        "id": "9e91a9d4"
      },
      "outputs": [
        {
          "name": "stdout",
          "output_type": "stream",
          "text": [
            "Введите количество дисков\n",
            "1\n",
            "2\n",
            "3\n",
            "4\n",
            "5\n",
            "6\n",
            "7\n",
            "8\n"
          ]
        }
      ],
      "source": [
        "\n",
        "A = Stack()\n",
        "B = Stack()\n",
        "C = Stack()\n",
        "\n",
        "print(\"Введите количество дисков\")\n",
        "disks = int(input())\n",
        "\n",
        "for i in range(disks, 0, -1):\n",
        "    A.push(i)\n",
        "\n",
        "def move(a, b):\n",
        "    if len(a) == 0 and len(b) > 0:\n",
        "        a.push(b.pop())\n",
        "    elif len(a) > 0 and len(b) == 0:\n",
        "        b.push(a.pop())\n",
        "    elif a.peek() > b.peek():\n",
        "        a.push(b.pop())\n",
        "    else:\n",
        "        b.push(a.pop())\n",
        "\n",
        "if disks % 2 == 0:\n",
        "    while len(C) != disks:\n",
        "        move(A, B)\n",
        "        move(A, C)\n",
        "        move(B, C)\n",
        "else:\n",
        "    while len(C) != disks:\n",
        "        move(A, C)\n",
        "        move(A, B)\n",
        "        move(B, C)\n",
        "\n",
        "while not C.is_empty():\n",
        "    print(C.pop())"
      ]
    },
    {
      "cell_type": "markdown",
      "id": "e5b0be17",
      "metadata": {
        "id": "e5b0be17"
      },
      "source": [
        "### Задание №4\n",
        "Дан текстовый файл с программой на алгоритмическом языке. За один просмотр файла проверить баланс круглых скобок в тексте, используя стек."
      ]
    },
    {
      "cell_type": "code",
      "execution_count": 8,
      "id": "5b1df60a",
      "metadata": {
        "id": "5b1df60a"
      },
      "outputs": [
        {
          "name": "stdout",
          "output_type": "stream",
          "text": [
            "Brackets position correct\n"
          ]
        }
      ],
      "source": [
        "stack = Stack()\n",
        "flag = 1\n",
        "\n",
        "with open(\"txtmanager/brackets_task_4.txt\", \"r\", encoding=\"utf-8\") as readfile:\n",
        "    for string in readfile:\n",
        "        for char in string:\n",
        "            if char == \"(\":\n",
        "                stack.push(char)\n",
        "            if char == \")\":\n",
        "                if len(stack) == 0:\n",
        "                    flag = 0\n",
        "                    break\n",
        "                stack.pop()\n",
        "                \n",
        "if len(stack) > 0:\n",
        "    flag = 0\n",
        "\n",
        "print(\"Brackets position correct\" if flag else \"Brackets position incorrect\")"
      ]
    },
    {
      "cell_type": "markdown",
      "id": "c44cdd6b",
      "metadata": {
        "id": "c44cdd6b"
      },
      "source": [
        "### Задание №5\n",
        "Дан текстовый файл с программой на алгоритмическом языке. За один просмотр файла проверить баланс квадратных скобок в тексте, используя дек."
      ]
    },
    {
      "cell_type": "code",
      "execution_count": 9,
      "id": "36b8f400",
      "metadata": {
        "id": "36b8f400"
      },
      "outputs": [
        {
          "name": "stdout",
          "output_type": "stream",
          "text": [
            "Brackets position incorrect\n"
          ]
        }
      ],
      "source": [
        "deq = Deque()\n",
        "flag = 1\n",
        "\n",
        "with open(\"txtmanager/brackets_task_5.txt\", \"r\", encoding=\"utf-8\") as readfile:\n",
        "    for string in readfile:\n",
        "        for char in string:\n",
        "            if char == \"[\":\n",
        "                deq.push(char)\n",
        "            if char == \"]\":\n",
        "                if len(deq) == 0:\n",
        "                    flag = 0\n",
        "                    break\n",
        "                deq.pop()\n",
        "                \n",
        "if len(deq) > 0:\n",
        "    flag = 0\n",
        "\n",
        "print(\"Brackets position correct\" if flag else \"Brackets position incorrect\")"
      ]
    },
    {
      "cell_type": "markdown",
      "id": "59d13dc7",
      "metadata": {
        "id": "59d13dc7"
      },
      "source": [
        "### Задание №6\n",
        "Дан файл из символов. Используя стек, за один просмотр файла напечатать сначала все цифры, затем все буквы, и, наконец, все остальные символы, сохраняя исходный порядок в каждой группе символов."
      ]
    },
    {
      "cell_type": "code",
      "execution_count": 10,
      "id": "297e36c2",
      "metadata": {
        "id": "297e36c2"
      },
      "outputs": [
        {
          "name": "stdout",
          "output_type": "stream",
          "text": [
            "19238800\n",
            "pishutranslitomsgodamenyavseustraevaet\n",
            "     &&     #$%^&*  {}\n"
          ]
        }
      ],
      "source": [
        "letters, numbers, others = Stack(), Stack(), Stack()\n",
        "\n",
        "with open(\"txtmanager/text_task_6.txt\", \"r\", encoding=\"utf-8\") as readfile:\n",
        "    for string in readfile:\n",
        "        for char in string:\n",
        "            if char.isalpha():\n",
        "                letters.push(char)\n",
        "            elif char.isdigit():\n",
        "                numbers.push(char)\n",
        "            else:\n",
        "                others.push(char)\n",
        "\n",
        "letters.reverse()\n",
        "numbers.reverse()\n",
        "others.reverse()\n",
        "\n",
        "res_n, res_l, res_o = \"\", \"\", \"\"\n",
        "\n",
        "while numbers:\n",
        "    res_n += numbers.pop()\n",
        "while letters:\n",
        "    res_l += letters.pop()\n",
        "while others:\n",
        "    res_o += others.pop()\n",
        "\n",
        "print(res_n, res_l, res_o, sep=\"\\n\")"
      ]
    },
    {
      "cell_type": "markdown",
      "id": "973f68bd",
      "metadata": {
        "id": "973f68bd"
      },
      "source": [
        "### Задание №7\n",
        "Дан файл из целых чисел. Используя дек, за один просмотр файла напечатать сначала все отрицательные числа, затем все положительные числа, сохраняя исходный порядок в каждой группе."
      ]
    },
    {
      "cell_type": "code",
      "execution_count": 11,
      "id": "c56fad66",
      "metadata": {
        "id": "c56fad66"
      },
      "outputs": [
        {
          "name": "stdout",
          "output_type": "stream",
          "text": [
            "Исходный массив:\n",
            " 8 -12 34 93 3 -12 33 84 0 22 -123 -23 999\n",
            "\n",
            "Измененный массив:\n",
            "-12 -12 -123 -23 8 34 93 3 33 84 0 22 999 "
          ]
        }
      ],
      "source": [
        "deq = Deque()\n",
        "with open(\"txtmanager/numbers_task_7.txt\", \"r\", encoding=\"utf-8\") as readfile:\n",
        "    s = readfile.readline().split()\n",
        "    print(\"Исходный массив:\\n\",*s)\n",
        "    s = map(int, s)\n",
        "for n in s:\n",
        "    if n < 0:\n",
        "        deq.push_left(n)\n",
        "    else:\n",
        "        deq.push(n)\n",
        "while deq:\n",
        "    x = deq.pop_left()\n",
        "    if x < 0:\n",
        "        deq.push(x)\n",
        "    else:\n",
        "        deq.push_left(x)\n",
        "        break\n",
        "print(\"\\nИзмененный массив:\")\n",
        "while deq:\n",
        "    x = deq.pop()\n",
        "    if x < 0:\n",
        "        print(x, end = \" \")\n",
        "    else:\n",
        "        deq.push(x)\n",
        "        while deq:\n",
        "            print(deq.pop_left(), end = \" \")\n",
        "        break"
      ]
    },
    {
      "cell_type": "markdown",
      "id": "b9228191",
      "metadata": {
        "id": "b9228191"
      },
      "source": [
        "### Задание №8\n",
        "Дан текстовый файл. Используя стек, сформировать новый текстовый файл, содержащий строки исходного файла, записанные в обратном порядке: первая строка становится последней, вторая – предпоследней и т.д."
      ]
    },
    {
      "cell_type": "code",
      "execution_count": 15,
      "id": "981fbdfe",
      "metadata": {
        "id": "981fbdfe"
      },
      "outputs": [
        {
          "name": "stdout",
          "output_type": "stream",
          "text": [
            "Исходный файл:\n",
            "first \n",
            "second \n",
            "++second \n",
            "++++second \n",
            "fifth \n",
            "\n",
            "Перевернутый файл:\n",
            "fifth \n",
            "++++second \n",
            "++second \n",
            "second \n",
            "first \n"
          ]
        }
      ],
      "source": [
        "stack = Stack()\n",
        "oldFile = open(\"txtmanager/text_task_8.txt\", \"r\", encoding = \"utf-8\")\n",
        "print(\"Исходный файл:\")\n",
        "for string in oldFile:\n",
        "    stack.push(string)\n",
        "    print(string, end = \"\")\n",
        "print(\"\\nПеревернутый файл:\")    \n",
        "newFile = open(\"txtmanager/rewrited_task_8.txt\", \"w\", encoding = \"utf-8\")\n",
        "with newFile as writefile:\n",
        "    while not stack.is_empty():\n",
        "        writefile.write(stack.peek())\n",
        "        print(stack.pop(), end = \"\")"
      ]
    },
    {
      "cell_type": "markdown",
      "id": "rental-jerusalem",
      "metadata": {
        "id": "rental-jerusalem"
      },
      "source": [
        "### Вывод\n"
      ]
    },
    {
      "attachments": {},
      "cell_type": "markdown",
      "id": "f593789d",
      "metadata": {},
      "source": [
        "Были реализованы такие структуры данных как стэк и дэк. Были использованы операции для этих структур данных (инициализация, проверка на пустоту, добавление и извлечение элемента слева и справа). Был реализован ввод и вывод в текстовый файл."
      ]
    }
  ],
  "metadata": {
    "colab": {
      "provenance": []
    },
    "kernelspec": {
      "display_name": "Python 3",
      "language": "python",
      "name": "python3"
    },
    "language_info": {
      "codemirror_mode": {
        "name": "ipython",
        "version": 3
      },
      "file_extension": ".py",
      "mimetype": "text/x-python",
      "name": "python",
      "nbconvert_exporter": "python",
      "pygments_lexer": "ipython3",
      "version": "3.10.11"
    },
    "vscode": {
      "interpreter": {
        "hash": "3b7e9cb8e453d6cda0fe8c8dd13f891a1f09162f0e7c66ffeae7751a7aecf00d"
      }
    }
  },
  "nbformat": 4,
  "nbformat_minor": 5
}
