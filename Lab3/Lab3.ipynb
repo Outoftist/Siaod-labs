{
  "cells": [
    {
      "cell_type": "markdown",
      "metadata": {
        "id": "0z3KlfKDn4_K"
      },
      "source": [
        "# Лабораторная работа 3. \n",
        "# Сетевые алгоритмы. Динамические алгоритмы поиска путей.\n"
      ]
    },
    {
      "attachments": {},
      "cell_type": "markdown",
      "metadata": {
        "id": "96Gi_LEvmSVH"
      },
      "source": [
        "## Выполнил студент Райшев Артем Игоревич БСТ2105\n",
        "***"
      ]
    },
    {
      "cell_type": "markdown",
      "metadata": {
        "id": "GjdIp8aToKIe"
      },
      "source": [
        "### Задание\n",
        "\n",
        "1.  Реализовать алгоритм поиска кратчайшего расстояния между двумя вершинами ориентированного взвешенного графа в соответствии с вариантом. \n",
        "\n",
        "2.  Предусмотреть задание графа в виде матрицы смежности/инцидентности, читаемой из файла, либо графически с помощью пользовательского интерфейса. \n",
        "\n",
        "3.  Разработать графический интерфейс пользователя с визуализацией графа и отображением кратчайшего расстояния между задаваемыми пользователем вершинами.\n",
        "\n",
        "4. По результатам работы проанализировать временную сложность работы заданного алгоритма в зависимости от числа узлов и ребер графа.\n",
        "Данные представить в виде таблицы.\n",
        "\n"
      ]
    },
    {
      "cell_type": "markdown",
      "metadata": {
        "id": "LhhUXrAmotIA"
      },
      "source": [
        "### Алгоритмы:\n",
        "\n",
        "Алгоритм Флойда-Уоршелла| Алгоритм Дейкстры | Алгоритм Беллмана-Форда | Алгоритм Джонсона| Алгоритм Левита | Алгоритм Йена\n",
        "\n"
      ]
    },
    {
      "cell_type": "markdown",
      "metadata": {
        "id": "Wggfn8l7nG72"
      },
      "source": [
        "### Выполнение:"
      ]
    },
    {
      "cell_type": "code",
      "execution_count": 6,
      "metadata": {
        "id": "681a95mZnOSa"
      },
      "outputs": [
        {
          "ename": "ModuleNotFoundError",
          "evalue": "No module named 'matplotlib'",
          "output_type": "error",
          "traceback": [
            "\u001b[1;31m---------------------------------------------------------------------------\u001b[0m",
            "\u001b[1;31mModuleNotFoundError\u001b[0m                       Traceback (most recent call last)",
            "Cell \u001b[1;32mIn[6], line 5\u001b[0m\n\u001b[0;32m      3\u001b[0m \u001b[39mimport\u001b[39;00m \u001b[39mmath\u001b[39;00m\n\u001b[0;32m      4\u001b[0m \u001b[39mimport\u001b[39;00m \u001b[39mcopy\u001b[39;00m\n\u001b[1;32m----> 5\u001b[0m \u001b[39mimport\u001b[39;00m \u001b[39mmatplotlib\u001b[39;00m\u001b[39m.\u001b[39;00m\u001b[39mpyplot\u001b[39;00m \u001b[39mas\u001b[39;00m \u001b[39mplt\u001b[39;00m\n\u001b[0;32m      6\u001b[0m \u001b[39mfrom\u001b[39;00m \u001b[39mtimeit\u001b[39;00m \u001b[39mimport\u001b[39;00m default_timer\n",
            "\u001b[1;31mModuleNotFoundError\u001b[0m: No module named 'matplotlib'"
          ]
        }
      ],
      "source": [
        "import networkx as nx\n",
        "import  numpy as np\n",
        "import math\n",
        "import copy\n",
        "import matplotlib.pyplot as plt\n",
        "from timeit import default_timer"
      ]
    },
    {
      "cell_type": "code",
      "execution_count": null,
      "metadata": {},
      "outputs": [],
      "source": [
        "def read_graph(filename): #cчитывание графа из файла\n",
        "    adj_matrix = list()\n",
        "    graphfile = open(filename, 'r')\n",
        "    for l in graphfile:\n",
        "        l = l.split()\n",
        "        for i in range(len(l)):\n",
        "            l[i] = int(l[i])\n",
        "        adj_matrix.append(l)\n",
        "    graphfile.close()\n",
        "    return adj_matrix\n",
        "\n",
        "def draw_graph(adj_matrix, path):\n",
        "    graph = nx.DiGraph(np.matrix(adj_matrix))\n",
        "    colors=[]\n",
        "    for item in graph.edges():\n",
        "        catch = 0\n",
        "        for i in range(len(path)-1):\n",
        "            if path[i] == item[0] and path[i+1] == item[1]:\n",
        "                catch+=1\n",
        "                break\n",
        "        if catch == 1:\n",
        "            colors.append('red')\n",
        "        else:\n",
        "            colors.append('black')\n",
        "    pos = nx.circular_layout(graph)  # positions for all nodes\n",
        "    labels = nx.get_edge_attributes(graph, 'weight')\n",
        "    nx.draw_networkx_nodes(graph, pos, node_size=250, node_color = 'royalblue')\n",
        "    nx.draw_networkx_edges(graph, pos, edge_color=colors, arrows=True, arrowsize = 10, width = 2)\n",
        "    nx.draw_networkx_labels(graph, pos, font_size=13, font_weight = 'bold', font_family='sans-serif')\n",
        "    nx.draw_networkx_edge_labels(graph, pos, edge_labels = labels, font_size=11, font_family='sans-serif')\n",
        "    plt.axis('off')\n",
        "    plt.show()\n",
        "    \n",
        "def convert_adj_matrix(adj_matrix):\n",
        "    res = []\n",
        "    for i in range(len(adj_matrix)):\n",
        "        res.append([])\n",
        "        for j in range(len(adj_matrix)):\n",
        "            res[i].append(adj_matrix[i][j])\n",
        "            if adj_matrix[i][j] == 0 and i!=j:\n",
        "                res[i][j] = math.inf\n",
        "    return res"
      ]
    },
    {
      "attachments": {},
      "cell_type": "markdown",
      "metadata": {},
      "source": [
        "### Алгоритм Флойда-Уоршелла"
      ]
    },
    {
      "cell_type": "code",
      "execution_count": null,
      "metadata": {},
      "outputs": [],
      "source": [
        "def floyd_warshall_get_path(P, start, end):\n",
        "    res = [start]\n",
        "    while start != end:\n",
        "        start = P[start][end]\n",
        "        res.append(start)\n",
        "    return res\n",
        "\n",
        "def floyd_warshall(adj_matrix, start, end):\n",
        "\n",
        "    N = len(adj_matrix)                       # число вершин в графе\n",
        "    P = [[v for v in range(N)] for u in range(N)]  # начальный список предыдущих вершин для поиска кратчайших маршрутов\n",
        "\n",
        "    for k in range(N):\n",
        "        for i in range(N):\n",
        "            for j in range(N):\n",
        "                if adj_matrix[i][k] < math.inf and adj_matrix[k][j] < math.inf and adj_matrix[i][j] > adj_matrix[i][k] + adj_matrix[k][j]:\n",
        "                    adj_matrix[i][j] = adj_matrix[i][k] + adj_matrix[k][j]\n",
        "                    P[i][j] = P[i][k]     # номер промежуточной вершины при движении от i к j\n",
        "    \n",
        "    path = floyd_warshall_get_path(P,start,end)\n",
        "    if len(path) == 2 and adj_matrix[start][end] == math.inf:\n",
        "        return [], 0\n",
        "    return path, adj_matrix[start][end]\n",
        "adj_matrix = read_graph('sources/adj_matrix.txt')\n",
        "mat1 = convert_adj_matrix(adj_matrix)\n",
        "start = int(input('Начальная вершина:'))\n",
        "end = int(input('Конечная врешина:'))\n",
        "t1 = default_timer()\n",
        "path, dist = floyd_warshall(mat1, start, end)\n",
        "floyd_warshall_time = default_timer() - t1\n",
        "if path and dist:\n",
        "    print(f\"Длина пути: {dist}\")\n",
        "    draw_graph(adj_matrix,path)\n",
        "else:\n",
        "    print(f\"Путь из {start} в {end} не существует\")\n",
        "    draw_graph(adj_matrix,[])"
      ]
    },
    {
      "attachments": {},
      "cell_type": "markdown",
      "metadata": {},
      "source": [
        "### Алгоритм Дейкстры"
      ]
    },
    {
      "cell_type": "code",
      "execution_count": null,
      "metadata": {},
      "outputs": [],
      "source": [
        "def dijkstra(adj_matrix, start):\n",
        "    dist = [math.inf for item in adj_matrix] # последняя строка таблицы Дейкстры\n",
        "    dist[start] = 0 #начинаем со стартового узла (для него длина пути 0 соотвественно)\n",
        "    next_node = start #следующий узел для работы (с минимальной длиной пути)\n",
        "    paths = [[start] for item in adj_matrix]\n",
        "    next_dist = dist.copy()\n",
        "    for k in range(len(dist)):\n",
        "        for i in range(len(dist)):\n",
        "            if adj_matrix[next_node][i] != math.inf and dist[next_node] != math.inf and dist[i] > adj_matrix[next_node][i] + dist[next_node]:\n",
        "                dist[i] = adj_matrix[next_node][i] + dist[next_node]\n",
        "                next_dist[i] = dist[i]\n",
        "                paths[i] = paths[next_node].copy()\n",
        "                paths[i].append(i) #обновляем путь до узла\n",
        "        next_dist[next_node] = math.inf\n",
        "        next_node = min(range(len(next_dist)), key = next_dist.__getitem__) #выбираем следующий минимальный узел среди оставшихся\n",
        "    if len(paths[end]) == 1:\n",
        "        return [],0\n",
        "    return paths, dist\n",
        "adj_matrix = read_graph('sources/adj_matrix.txt')\n",
        "mat1 = convert_adj_matrix(adj_matrix)\n",
        "start = int(input('Начальная вершина: '))\n",
        "end = int(input('Конечная врешина: '))\n",
        "t1 = default_timer()\n",
        "paths, dist = dijkstra(mat1, start)\n",
        "dijkstra_time = default_timer() - t1\n",
        "if paths and dist:\n",
        "    print(f\"Длина пути: {dist[end]}\")\n",
        "    draw_graph(adj_matrix,paths[end])\n",
        "else:\n",
        "    print(f\"Путь из {start} в {end} не существует\")\n",
        "    draw_graph(adj_matrix,[])"
      ]
    },
    {
      "attachments": {},
      "cell_type": "markdown",
      "metadata": {},
      "source": [
        "### Алгоритм Беллмана-Форда"
      ]
    },
    {
      "cell_type": "code",
      "execution_count": null,
      "metadata": {},
      "outputs": [],
      "source": [
        "def bellman_ford(adj_matrix, start):\n",
        "    path_lengths = [math.inf for item in adj_matrix]\n",
        "    path_lengths[start] = 0\n",
        "    paths = [[start] for item in adj_matrix]\n",
        "    for i in range(len(adj_matrix)):\n",
        "        for u in range(len(adj_matrix)):\n",
        "             for v in range(len(adj_matrix)):\n",
        "                    if path_lengths[u] != math.inf and adj_matrix[u][v] != math.inf and path_lengths[v] > path_lengths[u] + adj_matrix[u][v]:\n",
        "                        path_lengths[v] = path_lengths[u] + adj_matrix[u][v]\n",
        "                        paths[v] = paths[u].copy()\n",
        "                        paths[v].append(v)\n",
        "    if len(paths[end]) == 1:\n",
        "        return [],0\n",
        "    return paths, path_lengths\n",
        "adj_matrix = read_graph('sources/adj_matrix.txt')\n",
        "mat1 = convert_adj_matrix(adj_matrix)\n",
        "start = int(input('Начальная вершина: '))\n",
        "end = int(input('Конечная врешина: '))\n",
        "t1 = default_timer()\n",
        "path, dist = bellman_ford(mat1, start)\n",
        "bellman_ford_time = default_timer() - t1\n",
        "if path and dist:\n",
        "    print(f\"Длина пути: {dist[end]}\")\n",
        "    draw_graph(adj_matrix,path[end])\n",
        "else:\n",
        "    print(f\"Путь из {start} в {end} не существует\")\n",
        "    draw_graph(adj_matrix,[])"
      ]
    },
    {
      "attachments": {},
      "cell_type": "markdown",
      "metadata": {},
      "source": [
        "### Алгоритм Джонсона"
      ]
    },
    {
      "cell_type": "code",
      "execution_count": null,
      "metadata": {},
      "outputs": [],
      "source": [
        "def johnson(adj_matrix, start, end):\n",
        "    adj_matrix = convert_adj_matrix(adj_matrix)\n",
        "    adjmat_new = adj_matrix.copy() #создаем матрицу смежности с новой вершиной\n",
        "    for item in adjmat_new:\n",
        "        item.append(math.inf) #прежние вершины не имеют пути до новой\n",
        "    adjmat_new.append([])\n",
        "    for i in range(len(adjmat_new)):\n",
        "        adjmat_new[-1].append(0) # длина ребер от новой вершины до старых равняется нулю\n",
        "    paths, bell_dist = bellman_ford(adjmat_new, len(adjmat_new)-1) #применяем алогритм Беллмана_форда для обновленного графа\n",
        "    for u in range(len(adj_matrix)):\n",
        "        for v in range(len(adj_matrix)):\n",
        "            if adj_matrix[u][v] != math.inf and bell_dist[u] != math.inf and bell_dist[v] != math.inf:\n",
        "                adj_matrix[u][v] += bell_dist[u] - bell_dist[v] #изменяем значения рёбер по формуле\n",
        "    final_dist = []\n",
        "    final_paths = []\n",
        "    for i in range(len(adj_matrix)-1): #применяем алгоритм Дейкстры для графа с обновленными весами рёбер\n",
        "            path, dist = dijkstra(adj_matrix, i)\n",
        "            final_dist.append(dist)\n",
        "            final_paths.append(path)\n",
        "    final_dist.append([])\n",
        "    final_paths.append([])\n",
        "    for i in range(len(adj_matrix)):\n",
        "        final_paths[-1].append([end])\n",
        "        if i==len(adj_matrix)-1:\n",
        "            final_dist[-1].append(start)\n",
        "        else:\n",
        "            final_dist[-1].append(math.inf)\n",
        "    if len(final_paths[start][end]) == 1:\n",
        "        return [], 0\n",
        "    return final_paths, final_dist\n",
        "\n",
        "adj_matrix = read_graph('sources/adj_matrix.txt')\n",
        "start = int(input('Начальная вершина: '))\n",
        "end = int(input('Конечная врешина: '))\n",
        "t1 = default_timer()\n",
        "path, dist = johnson(adj_matrix, start, end)\n",
        "johnson_time = default_timer() - t1\n",
        "if path and dist:\n",
        "    print(f\"Длина пути: {dist[start][end]}\")\n",
        "    draw_graph(adj_matrix,path[start][end])\n",
        "else:\n",
        "    print(f\"Путь из {start} в {end} не существует\")\n",
        "    draw_graph(adj_matrix,[])"
      ]
    },
    {
      "attachments": {},
      "cell_type": "markdown",
      "metadata": {},
      "source": [
        "### Алгоритм Левита"
      ]
    },
    {
      "cell_type": "code",
      "execution_count": null,
      "metadata": {},
      "outputs": [],
      "source": [
        "def levit(adj_matrix, start, end):\n",
        "    adj_matrix = convert_adj_matrix(adj_matrix)\n",
        "    M0 = set() #множество вершин, расстояния до которых уже вычислены (возможно неокончательно)\n",
        "    M1 = {'main': [start], 'urgent': []} #вершины, расстояния до которых вычисляются\n",
        "    M2 = set(range(1, len(adj_matrix)+1)) #вершины, расстояния до которых ещё не вычислены\n",
        "    dist = [math.inf for item in adj_matrix]\n",
        "    dist[start] = 0\n",
        "    paths = [[start] for item in adj_matrix]\n",
        "    while len(M1['main']) or len(M1['urgent']):\n",
        "        if len(M1['urgent']):\n",
        "            u = M1['urgent'].pop(0)\n",
        "        else:\n",
        "            u = M1['main'].pop(0)\n",
        "        for v in range(len(adj_matrix)):\n",
        "            if dist[u] == math.inf or adj_matrix[u][v] == math.inf:\n",
        "                continue\n",
        "            if v in M2:\n",
        "                M2.remove(v)\n",
        "                M1['main'].append(v)\n",
        "                if dist[v] > dist[u] + adj_matrix[u][v]:\n",
        "                    paths[v] = paths[u].copy()\n",
        "                    paths[v].append(v)\n",
        "                    dist[v] = dist[u] + adj_matrix[u][v]\n",
        "            elif v in M1['main'] or v in M1['urgent']:\n",
        "                if dist[v] > dist[u] + adj_matrix[u][v]:\n",
        "                    paths[v] = paths[u].copy()\n",
        "                    paths[v].append(v)\n",
        "                    dist[v] = dist[u] + adj_matrix[u][v]\n",
        "            elif v in M0 and dist[v] > dist[u] + adj_matrix[u][v]:\n",
        "                M0.remove(v)\n",
        "                M1['urgent'].append(v)\n",
        "                dist[v] = dist[u] + adj_matrix[u][v]\n",
        "                paths[v] = paths[u].copy()\n",
        "                paths[v].append(v)\n",
        "        M0.add(u)\n",
        "    if len(paths[end]) == 1:\n",
        "             return [], 0\n",
        "    return paths, dist\n",
        "\n",
        "adj_matrix = read_graph('sources/adj_matrix.txt')\n",
        "start = int(input('Начальная вершина: '))\n",
        "end = int(input('Конечная врешина: '))\n",
        "t1 = default_timer()\n",
        "paths, dist = levit(adj_matrix, start, end)\n",
        "levit_time = default_timer() - t1\n",
        "if paths and dist:\n",
        "    print(f\"Длина пути: {dist[end]}\")\n",
        "    draw_graph(adj_matrix,paths[end])\n",
        "else:\n",
        "    print(f\"Путь из {start} в {end} не существует\")\n",
        "    draw_graph(adj_matrix,[])"
      ]
    },
    {
      "attachments": {},
      "cell_type": "markdown",
      "metadata": {},
      "source": [
        "### Алгоритм Йена"
      ]
    },
    {
      "cell_type": "code",
      "execution_count": null,
      "metadata": {},
      "outputs": [],
      "source": [
        "def yen(adj_matrix, start, end, K):\n",
        "    original_mat = adj_matrix.copy()\n",
        "    adj_matrix = convert_adj_matrix(adj_matrix)\n",
        "    candidates = set()\n",
        "    original_paths, original_dists = levit(adj_matrix, start, end)\n",
        "    paths = [original_paths[end]]\n",
        "    lengths = [original_dists[end]]\n",
        "    for k in range(K):\n",
        "        cur_mat = adj_matrix.copy() # создаем копию исходной матрицы, т.к. по ходу выполнения будем менять графы\n",
        "        for i in range(len(paths[-1])-1):\n",
        "            #постепенно выбираем корневой путь и вершину ветвления\n",
        "            spur_node = paths[-1][i]\n",
        "            root_path = paths[-1][:i+1]\n",
        "            for j in range(len(root_path)): #удаляем из графа вершины, идущие в пути перед вершиной ветвления (к ним мы не можем возвращаться)\n",
        "                if root_path[j] != spur_node:\n",
        "                    cur_mat[root_path[j]] = [math.inf for l in range(len(cur_mat))]\n",
        "            for path in paths: #в списке path находим пути, которые начинаются с корневого пути\n",
        "                if root_path == path[:i+1]:\n",
        "                    cur_mat[path[i]][path[i+1]] = math.inf #удаляем следующие ребра в найденных путях, чтоб начать минимальное ветвление\n",
        "            original_paths, original_dists = levit(cur_mat, spur_node, end) # находим кратчайший путь в изменёном графе\n",
        "            if len(original_paths):\n",
        "                total_dist = 0\n",
        "                spur_path = original_paths[end][1:] #определяем путь ветвления без начальной вершины в найденном пути, т.к. она есть в корневом пути\n",
        "                total_path = root_path\n",
        "                total_path.extend(spur_path)\n",
        "                total_path = tuple(total_path) #преобразовываем список в кортеж, чтобы добавить его в набор кандидатов\n",
        "                for j in range(len(total_path)-1):\n",
        "                    total_dist += original_mat[total_path[j]][total_path[j+1]]\n",
        "                candidates.add((total_path, total_dist))\n",
        "        if not candidates:\n",
        "            break\n",
        "        sorted_candidates = list(candidates) # преобразовавыем набор кандидатов в список чтобы остортировать его по длинам маршртуа\n",
        "        sorted_candidates.sort(key = lambda x: x[1])\n",
        "        paths.append(list(sorted_candidates[0][0])) #добавляем в список paths минимальный путь\n",
        "        lengths.append(sorted_candidates[0][1])\n",
        "        candidates.remove(sorted_candidates[0]) # удаляем минимальный путь из набора кандидатов\n",
        "    return paths, lengths\n",
        "adj_matrix = read_graph('sources/adj_matrix.txt')\n",
        "start = int(input('Начальная вершина: '))\n",
        "end = int(input('Конечная врешина: '))\n",
        "K = int(input('Количество искомых путей: '))\n",
        "t1 = default_timer()\n",
        "paths, dists = yen(adj_matrix, start, end, K)\n",
        "yen_time = default_timer() - t1\n",
        "for i in range(K):\n",
        "    print(f\"Длина пути: {dists[i]}\")\n",
        "    draw_graph(adj_matrix,paths[i])\n"
      ]
    },
    {
      "attachments": {},
      "cell_type": "markdown",
      "metadata": {},
      "source": [
        "### Сложность работы алгоритмов"
      ]
    },
    {
      "cell_type": "code",
      "execution_count": null,
      "metadata": {},
      "outputs": [],
      "source": [
        "time_list=[[floyd_warshall_time, \"Алгоритм Флойда-Уоршелла\"],\n",
        "          [dijkstra_time, \"Алгоритм Дейкстры\"],\n",
        "          [bellman_ford_time, \"Алгоритм Беллмана-Форда\"],\n",
        "          [johnson_time, \"Алгоритм Джонсона\"],\n",
        "          [levit_time, \"Алгоритм Левита\"],\n",
        "          [yen_time, \"Алгоритм Йена\"]]\n",
        "time_list.sort()\n",
        "for i in range(len(time_list)):\n",
        "    print(f\"{i + 1} место: {time_list[i][1]} - {time_list[i][0]}\")"
      ]
    }
  ],
  "metadata": {
    "colab": {
      "provenance": []
    },
    "kernelspec": {
      "display_name": "Python 3 (ipykernel)",
      "language": "python",
      "name": "python3"
    },
    "language_info": {
      "codemirror_mode": {
        "name": "ipython",
        "version": 3
      },
      "file_extension": ".py",
      "mimetype": "text/x-python",
      "name": "python",
      "nbconvert_exporter": "python",
      "pygments_lexer": "ipython3",
      "version": "3.10.11"
    }
  },
  "nbformat": 4,
  "nbformat_minor": 0
}
